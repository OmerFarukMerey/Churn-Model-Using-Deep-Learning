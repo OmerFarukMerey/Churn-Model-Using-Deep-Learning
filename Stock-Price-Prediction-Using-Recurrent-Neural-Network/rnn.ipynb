{
 "cells": [
  {
   "cell_type": "code",
   "execution_count": 1,
   "id": "7d7c7971",
   "metadata": {},
   "outputs": [
    {
     "name": "stdout",
     "output_type": "stream",
     "text": [
      "Requirement already satisfied: tensorflow in c:\\users\\flcs\\anaconda3\\lib\\site-packages (2.11.0)\n",
      "Requirement already satisfied: tensorflow-intel==2.11.0 in c:\\users\\flcs\\anaconda3\\lib\\site-packages (from tensorflow) (2.11.0)\n",
      "Requirement already satisfied: opt-einsum>=2.3.2 in c:\\users\\flcs\\anaconda3\\lib\\site-packages (from tensorflow-intel==2.11.0->tensorflow) (3.3.0)\n",
      "Requirement already satisfied: keras<2.12,>=2.11.0 in c:\\users\\flcs\\anaconda3\\lib\\site-packages (from tensorflow-intel==2.11.0->tensorflow) (2.11.0)\n",
      "Requirement already satisfied: astunparse>=1.6.0 in c:\\users\\flcs\\anaconda3\\lib\\site-packages (from tensorflow-intel==2.11.0->tensorflow) (1.6.3)\n",
      "Requirement already satisfied: typing-extensions>=3.6.6 in c:\\users\\flcs\\anaconda3\\lib\\site-packages (from tensorflow-intel==2.11.0->tensorflow) (4.1.1)\n",
      "Requirement already satisfied: numpy>=1.20 in c:\\users\\flcs\\anaconda3\\lib\\site-packages (from tensorflow-intel==2.11.0->tensorflow) (1.21.5)\n",
      "Requirement already satisfied: flatbuffers>=2.0 in c:\\users\\flcs\\anaconda3\\lib\\site-packages (from tensorflow-intel==2.11.0->tensorflow) (23.1.4)\n",
      "Requirement already satisfied: wrapt>=1.11.0 in c:\\users\\flcs\\anaconda3\\lib\\site-packages (from tensorflow-intel==2.11.0->tensorflow) (1.12.1)\n",
      "Requirement already satisfied: h5py>=2.9.0 in c:\\users\\flcs\\anaconda3\\lib\\site-packages (from tensorflow-intel==2.11.0->tensorflow) (3.6.0)\n",
      "Requirement already satisfied: grpcio<2.0,>=1.24.3 in c:\\users\\flcs\\anaconda3\\lib\\site-packages (from tensorflow-intel==2.11.0->tensorflow) (1.42.0)\n",
      "Requirement already satisfied: gast<=0.4.0,>=0.2.1 in c:\\users\\flcs\\anaconda3\\lib\\site-packages (from tensorflow-intel==2.11.0->tensorflow) (0.4.0)\n",
      "Requirement already satisfied: google-pasta>=0.1.1 in c:\\users\\flcs\\anaconda3\\lib\\site-packages (from tensorflow-intel==2.11.0->tensorflow) (0.2.0)\n",
      "Requirement already satisfied: tensorflow-estimator<2.12,>=2.11.0 in c:\\users\\flcs\\anaconda3\\lib\\site-packages (from tensorflow-intel==2.11.0->tensorflow) (2.11.0)\n",
      "Requirement already satisfied: tensorflow-io-gcs-filesystem>=0.23.1 in c:\\users\\flcs\\anaconda3\\lib\\site-packages (from tensorflow-intel==2.11.0->tensorflow) (0.29.0)\n",
      "Requirement already satisfied: tensorboard<2.12,>=2.11 in c:\\users\\flcs\\anaconda3\\lib\\site-packages (from tensorflow-intel==2.11.0->tensorflow) (2.11.0)\n",
      "Requirement already satisfied: protobuf<3.20,>=3.9.2 in c:\\users\\flcs\\anaconda3\\lib\\site-packages (from tensorflow-intel==2.11.0->tensorflow) (3.19.1)\n",
      "Requirement already satisfied: termcolor>=1.1.0 in c:\\users\\flcs\\anaconda3\\lib\\site-packages (from tensorflow-intel==2.11.0->tensorflow) (2.2.0)\n",
      "Requirement already satisfied: absl-py>=1.0.0 in c:\\users\\flcs\\anaconda3\\lib\\site-packages (from tensorflow-intel==2.11.0->tensorflow) (1.3.0)\n",
      "Requirement already satisfied: setuptools in c:\\users\\flcs\\anaconda3\\lib\\site-packages (from tensorflow-intel==2.11.0->tensorflow) (61.2.0)\n",
      "Requirement already satisfied: packaging in c:\\users\\flcs\\anaconda3\\lib\\site-packages (from tensorflow-intel==2.11.0->tensorflow) (21.3)\n",
      "Requirement already satisfied: six>=1.12.0 in c:\\users\\flcs\\anaconda3\\lib\\site-packages (from tensorflow-intel==2.11.0->tensorflow) (1.16.0)\n",
      "Requirement already satisfied: libclang>=13.0.0 in c:\\users\\flcs\\anaconda3\\lib\\site-packages (from tensorflow-intel==2.11.0->tensorflow) (15.0.6.1)\n",
      "Requirement already satisfied: wheel<1.0,>=0.23.0 in c:\\users\\flcs\\anaconda3\\lib\\site-packages (from astunparse>=1.6.0->tensorflow-intel==2.11.0->tensorflow) (0.37.1)\n",
      "Requirement already satisfied: requests<3,>=2.21.0 in c:\\users\\flcs\\anaconda3\\lib\\site-packages (from tensorboard<2.12,>=2.11->tensorflow-intel==2.11.0->tensorflow) (2.27.1)\n",
      "Requirement already satisfied: markdown>=2.6.8 in c:\\users\\flcs\\anaconda3\\lib\\site-packages (from tensorboard<2.12,>=2.11->tensorflow-intel==2.11.0->tensorflow) (3.3.4)\n",
      "Requirement already satisfied: werkzeug>=1.0.1 in c:\\users\\flcs\\anaconda3\\lib\\site-packages (from tensorboard<2.12,>=2.11->tensorflow-intel==2.11.0->tensorflow) (2.0.3)\n",
      "Requirement already satisfied: google-auth-oauthlib<0.5,>=0.4.1 in c:\\users\\flcs\\anaconda3\\lib\\site-packages (from tensorboard<2.12,>=2.11->tensorflow-intel==2.11.0->tensorflow) (0.4.6)\n",
      "Requirement already satisfied: google-auth<3,>=1.6.3 in c:\\users\\flcs\\anaconda3\\lib\\site-packages (from tensorboard<2.12,>=2.11->tensorflow-intel==2.11.0->tensorflow) (1.33.0)\n",
      "Requirement already satisfied: tensorboard-data-server<0.7.0,>=0.6.0 in c:\\users\\flcs\\anaconda3\\lib\\site-packages (from tensorboard<2.12,>=2.11->tensorflow-intel==2.11.0->tensorflow) (0.6.1)\n",
      "Requirement already satisfied: tensorboard-plugin-wit>=1.6.0 in c:\\users\\flcs\\anaconda3\\lib\\site-packages (from tensorboard<2.12,>=2.11->tensorflow-intel==2.11.0->tensorflow) (1.8.1)\n",
      "Requirement already satisfied: rsa<5,>=3.1.4 in c:\\users\\flcs\\anaconda3\\lib\\site-packages (from google-auth<3,>=1.6.3->tensorboard<2.12,>=2.11->tensorflow-intel==2.11.0->tensorflow) (4.7.2)\n",
      "Requirement already satisfied: cachetools<5.0,>=2.0.0 in c:\\users\\flcs\\anaconda3\\lib\\site-packages (from google-auth<3,>=1.6.3->tensorboard<2.12,>=2.11->tensorflow-intel==2.11.0->tensorflow) (4.2.2)\n",
      "Requirement already satisfied: pyasn1-modules>=0.2.1 in c:\\users\\flcs\\anaconda3\\lib\\site-packages (from google-auth<3,>=1.6.3->tensorboard<2.12,>=2.11->tensorflow-intel==2.11.0->tensorflow) (0.2.8)\n",
      "Requirement already satisfied: requests-oauthlib>=0.7.0 in c:\\users\\flcs\\anaconda3\\lib\\site-packages (from google-auth-oauthlib<0.5,>=0.4.1->tensorboard<2.12,>=2.11->tensorflow-intel==2.11.0->tensorflow) (1.3.1)\n",
      "Requirement already satisfied: pyasn1<0.5.0,>=0.4.6 in c:\\users\\flcs\\anaconda3\\lib\\site-packages (from pyasn1-modules>=0.2.1->google-auth<3,>=1.6.3->tensorboard<2.12,>=2.11->tensorflow-intel==2.11.0->tensorflow) (0.4.8)\n",
      "Requirement already satisfied: charset-normalizer~=2.0.0 in c:\\users\\flcs\\anaconda3\\lib\\site-packages (from requests<3,>=2.21.0->tensorboard<2.12,>=2.11->tensorflow-intel==2.11.0->tensorflow) (2.0.4)\n",
      "Requirement already satisfied: urllib3<1.27,>=1.21.1 in c:\\users\\flcs\\anaconda3\\lib\\site-packages (from requests<3,>=2.21.0->tensorboard<2.12,>=2.11->tensorflow-intel==2.11.0->tensorflow) (1.26.9)\n",
      "Requirement already satisfied: certifi>=2017.4.17 in c:\\users\\flcs\\anaconda3\\lib\\site-packages (from requests<3,>=2.21.0->tensorboard<2.12,>=2.11->tensorflow-intel==2.11.0->tensorflow) (2021.10.8)\n",
      "Requirement already satisfied: idna<4,>=2.5 in c:\\users\\flcs\\anaconda3\\lib\\site-packages (from requests<3,>=2.21.0->tensorboard<2.12,>=2.11->tensorflow-intel==2.11.0->tensorflow) (3.3)\n",
      "Requirement already satisfied: oauthlib>=3.0.0 in c:\\users\\flcs\\anaconda3\\lib\\site-packages (from requests-oauthlib>=0.7.0->google-auth-oauthlib<0.5,>=0.4.1->tensorboard<2.12,>=2.11->tensorflow-intel==2.11.0->tensorflow) (3.2.2)\n",
      "Requirement already satisfied: pyparsing!=3.0.5,>=2.0.2 in c:\\users\\flcs\\anaconda3\\lib\\site-packages (from packaging->tensorflow-intel==2.11.0->tensorflow) (3.0.4)\n"
     ]
    }
   ],
   "source": [
    "!pip install tensorflow"
   ]
  },
  {
   "cell_type": "code",
   "execution_count": 2,
   "id": "8f181692",
   "metadata": {},
   "outputs": [],
   "source": [
    "import pandas as pd\n",
    "import numpy as np\n",
    "import matplotlib.pyplot as plt\n",
    "\n",
    "import tensorflow as tf\n",
    "\n",
    "from keras.models import Sequential\n",
    "from keras.layers import Dense\n",
    "from keras.layers import LSTM\n",
    "from keras.layers import Dropout"
   ]
  },
  {
   "cell_type": "code",
   "execution_count": 3,
   "id": "2224ee79",
   "metadata": {},
   "outputs": [
    {
     "data": {
      "text/plain": [
       "(1258, 1)"
      ]
     },
     "execution_count": 3,
     "metadata": {},
     "output_type": "execute_result"
    }
   ],
   "source": [
    "train_dataset = pd.read_csv(\"Google_Stock_Price_Train.csv\")\n",
    "train_dataset = train_dataset.iloc[:, 1:2]\n",
    "train_dataset.shape"
   ]
  },
  {
   "cell_type": "code",
   "execution_count": 4,
   "id": "a95b2aa9",
   "metadata": {},
   "outputs": [
    {
     "data": {
      "text/html": [
       "<div>\n",
       "<style scoped>\n",
       "    .dataframe tbody tr th:only-of-type {\n",
       "        vertical-align: middle;\n",
       "    }\n",
       "\n",
       "    .dataframe tbody tr th {\n",
       "        vertical-align: top;\n",
       "    }\n",
       "\n",
       "    .dataframe thead th {\n",
       "        text-align: right;\n",
       "    }\n",
       "</style>\n",
       "<table border=\"1\" class=\"dataframe\">\n",
       "  <thead>\n",
       "    <tr style=\"text-align: right;\">\n",
       "      <th></th>\n",
       "      <th>Open</th>\n",
       "    </tr>\n",
       "  </thead>\n",
       "  <tbody>\n",
       "    <tr>\n",
       "      <th>0</th>\n",
       "      <td>325.25</td>\n",
       "    </tr>\n",
       "    <tr>\n",
       "      <th>1</th>\n",
       "      <td>331.27</td>\n",
       "    </tr>\n",
       "    <tr>\n",
       "      <th>2</th>\n",
       "      <td>329.83</td>\n",
       "    </tr>\n",
       "    <tr>\n",
       "      <th>3</th>\n",
       "      <td>328.34</td>\n",
       "    </tr>\n",
       "    <tr>\n",
       "      <th>4</th>\n",
       "      <td>322.04</td>\n",
       "    </tr>\n",
       "    <tr>\n",
       "      <th>...</th>\n",
       "      <td>...</td>\n",
       "    </tr>\n",
       "    <tr>\n",
       "      <th>1253</th>\n",
       "      <td>790.90</td>\n",
       "    </tr>\n",
       "    <tr>\n",
       "      <th>1254</th>\n",
       "      <td>790.68</td>\n",
       "    </tr>\n",
       "    <tr>\n",
       "      <th>1255</th>\n",
       "      <td>793.70</td>\n",
       "    </tr>\n",
       "    <tr>\n",
       "      <th>1256</th>\n",
       "      <td>783.33</td>\n",
       "    </tr>\n",
       "    <tr>\n",
       "      <th>1257</th>\n",
       "      <td>782.75</td>\n",
       "    </tr>\n",
       "  </tbody>\n",
       "</table>\n",
       "<p>1258 rows × 1 columns</p>\n",
       "</div>"
      ],
      "text/plain": [
       "        Open\n",
       "0     325.25\n",
       "1     331.27\n",
       "2     329.83\n",
       "3     328.34\n",
       "4     322.04\n",
       "...      ...\n",
       "1253  790.90\n",
       "1254  790.68\n",
       "1255  793.70\n",
       "1256  783.33\n",
       "1257  782.75\n",
       "\n",
       "[1258 rows x 1 columns]"
      ]
     },
     "execution_count": 4,
     "metadata": {},
     "output_type": "execute_result"
    }
   ],
   "source": [
    "train_dataset"
   ]
  },
  {
   "cell_type": "code",
   "execution_count": 5,
   "id": "b433554c",
   "metadata": {},
   "outputs": [
    {
     "data": {
      "text/plain": [
       "array([[0.08581368],\n",
       "       [0.09701243],\n",
       "       [0.09433366],\n",
       "       ...,\n",
       "       [0.95725128],\n",
       "       [0.93796041],\n",
       "       [0.93688146]])"
      ]
     },
     "execution_count": 5,
     "metadata": {},
     "output_type": "execute_result"
    }
   ],
   "source": [
    "from sklearn.preprocessing import MinMaxScaler\n",
    "\n",
    "sc = MinMaxScaler(feature_range = (0, 1))\n",
    "\n",
    "training_set_scaled = sc.fit_transform(train_dataset)\n",
    "\n",
    "training_set_scaled"
   ]
  },
  {
   "cell_type": "code",
   "execution_count": 6,
   "id": "9a8b925d",
   "metadata": {},
   "outputs": [
    {
     "data": {
      "text/plain": [
       "0.0915618721631073"
      ]
     },
     "execution_count": 6,
     "metadata": {},
     "output_type": "execute_result"
    }
   ],
   "source": [
    "training_set_scaled[3,0]"
   ]
  },
  {
   "cell_type": "code",
   "execution_count": 7,
   "id": "1936d131",
   "metadata": {},
   "outputs": [],
   "source": [
    "X_train = []\n",
    "y_train = []\n",
    "\n",
    "# The basic idea is that our RNN is learning from 0 to 59 and learn 60th stock price.\n",
    "for i in range(60, 1258):\n",
    "    X_train.append(training_set_scaled[i-60:i, 0])\n",
    "    y_train.append(training_set_scaled[i, 0])\n",
    "    \n",
    "X_train, y_train = np.array(X_train), np.array(y_train)"
   ]
  },
  {
   "cell_type": "code",
   "execution_count": 8,
   "id": "7850e450",
   "metadata": {},
   "outputs": [
    {
     "data": {
      "text/plain": [
       "(1198, 60)"
      ]
     },
     "execution_count": 8,
     "metadata": {},
     "output_type": "execute_result"
    }
   ],
   "source": [
    "X_train.shape"
   ]
  },
  {
   "cell_type": "code",
   "execution_count": 9,
   "id": "60b1070a",
   "metadata": {},
   "outputs": [
    {
     "data": {
      "text/plain": [
       "(1198,)"
      ]
     },
     "execution_count": 9,
     "metadata": {},
     "output_type": "execute_result"
    }
   ],
   "source": [
    "y_train.shape"
   ]
  },
  {
   "cell_type": "code",
   "execution_count": 10,
   "id": "60c4e68a",
   "metadata": {},
   "outputs": [],
   "source": [
    "X_train = np.reshape(X_train, (X_train.shape[0], X_train.shape[1], 1))"
   ]
  },
  {
   "cell_type": "code",
   "execution_count": 11,
   "id": "bafd9817",
   "metadata": {},
   "outputs": [
    {
     "data": {
      "text/plain": [
       "(1198, 60, 1)"
      ]
     },
     "execution_count": 11,
     "metadata": {},
     "output_type": "execute_result"
    }
   ],
   "source": [
    "X_train.shape"
   ]
  },
  {
   "cell_type": "code",
   "execution_count": 12,
   "id": "45c0f7a6",
   "metadata": {},
   "outputs": [],
   "source": [
    "regressor = Sequential()"
   ]
  },
  {
   "cell_type": "code",
   "execution_count": 13,
   "id": "8e4a537a",
   "metadata": {},
   "outputs": [],
   "source": [
    "regressor.add(LSTM(units=50, return_sequences=True, input_shape=(X_train.shape[1],X_train.shape[2])))\n",
    "regressor.add(Dropout(0.2))"
   ]
  },
  {
   "cell_type": "code",
   "execution_count": 14,
   "id": "6423d3c0",
   "metadata": {},
   "outputs": [],
   "source": [
    "regressor.add(LSTM(units = 50, return_sequences = True))\n",
    "regressor.add(Dropout(0.2))"
   ]
  },
  {
   "cell_type": "code",
   "execution_count": 15,
   "id": "190e6893",
   "metadata": {},
   "outputs": [],
   "source": [
    "regressor.add(LSTM(units = 50, return_sequences = True))\n",
    "regressor.add(Dropout(0.2))"
   ]
  },
  {
   "cell_type": "code",
   "execution_count": 16,
   "id": "8b97ff6e",
   "metadata": {},
   "outputs": [],
   "source": [
    "regressor.add(LSTM(units = 50))\n",
    "regressor.add(Dropout(0.2))"
   ]
  },
  {
   "cell_type": "code",
   "execution_count": 17,
   "id": "779fe3fa",
   "metadata": {},
   "outputs": [],
   "source": [
    "regressor.add(Dense(units = 1))"
   ]
  },
  {
   "cell_type": "code",
   "execution_count": 18,
   "id": "2795cd0b",
   "metadata": {},
   "outputs": [],
   "source": [
    "regressor.compile(optimizer = 'adam', loss = 'mean_squared_error')"
   ]
  },
  {
   "cell_type": "code",
   "execution_count": 19,
   "id": "d7188aaf",
   "metadata": {},
   "outputs": [
    {
     "name": "stdout",
     "output_type": "stream",
     "text": [
      "Epoch 1/125\n",
      "38/38 [==============================] - 7s 50ms/step - loss: 0.0378\n",
      "Epoch 2/125\n",
      "38/38 [==============================] - 2s 51ms/step - loss: 0.0068\n",
      "Epoch 3/125\n",
      "38/38 [==============================] - 2s 52ms/step - loss: 0.0054\n",
      "Epoch 4/125\n",
      "38/38 [==============================] - 2s 50ms/step - loss: 0.0052\n",
      "Epoch 5/125\n",
      "38/38 [==============================] - 2s 52ms/step - loss: 0.0051\n",
      "Epoch 6/125\n",
      "38/38 [==============================] - 2s 51ms/step - loss: 0.0044\n",
      "Epoch 7/125\n",
      "38/38 [==============================] - 2s 50ms/step - loss: 0.0049\n",
      "Epoch 8/125\n",
      "38/38 [==============================] - 2s 50ms/step - loss: 0.0044\n",
      "Epoch 9/125\n",
      "38/38 [==============================] - 2s 52ms/step - loss: 0.0042\n",
      "Epoch 10/125\n",
      "38/38 [==============================] - 2s 50ms/step - loss: 0.0043\n",
      "Epoch 11/125\n",
      "38/38 [==============================] - 2s 50ms/step - loss: 0.0042\n",
      "Epoch 12/125\n",
      "38/38 [==============================] - 2s 50ms/step - loss: 0.0041\n",
      "Epoch 13/125\n",
      "38/38 [==============================] - 2s 49ms/step - loss: 0.0039\n",
      "Epoch 14/125\n",
      "38/38 [==============================] - 2s 49ms/step - loss: 0.0045\n",
      "Epoch 15/125\n",
      "38/38 [==============================] - 2s 49ms/step - loss: 0.0037\n",
      "Epoch 16/125\n",
      "38/38 [==============================] - 2s 49ms/step - loss: 0.0039\n",
      "Epoch 17/125\n",
      "38/38 [==============================] - 2s 49ms/step - loss: 0.0039\n",
      "Epoch 18/125\n",
      "38/38 [==============================] - 2s 49ms/step - loss: 0.0033\n",
      "Epoch 19/125\n",
      "38/38 [==============================] - 2s 49ms/step - loss: 0.0039\n",
      "Epoch 20/125\n",
      "38/38 [==============================] - 2s 48ms/step - loss: 0.0032\n",
      "Epoch 21/125\n",
      "38/38 [==============================] - 2s 49ms/step - loss: 0.0035\n",
      "Epoch 22/125\n",
      "38/38 [==============================] - 2s 49ms/step - loss: 0.0035\n",
      "Epoch 23/125\n",
      "38/38 [==============================] - 2s 50ms/step - loss: 0.0033\n",
      "Epoch 24/125\n",
      "38/38 [==============================] - 2s 50ms/step - loss: 0.0031\n",
      "Epoch 25/125\n",
      "38/38 [==============================] - 2s 50ms/step - loss: 0.0032\n",
      "Epoch 26/125\n",
      "38/38 [==============================] - 2s 51ms/step - loss: 0.0035\n",
      "Epoch 27/125\n",
      "38/38 [==============================] - 2s 50ms/step - loss: 0.0032\n",
      "Epoch 28/125\n",
      "38/38 [==============================] - 2s 50ms/step - loss: 0.0033\n",
      "Epoch 29/125\n",
      "38/38 [==============================] - 2s 51ms/step - loss: 0.0031\n",
      "Epoch 30/125\n",
      "38/38 [==============================] - 2s 49ms/step - loss: 0.0032\n",
      "Epoch 31/125\n",
      "38/38 [==============================] - 2s 49ms/step - loss: 0.0031\n",
      "Epoch 32/125\n",
      "38/38 [==============================] - 2s 51ms/step - loss: 0.0028\n",
      "Epoch 33/125\n",
      "38/38 [==============================] - 2s 50ms/step - loss: 0.0031\n",
      "Epoch 34/125\n",
      "38/38 [==============================] - 2s 50ms/step - loss: 0.0031\n",
      "Epoch 35/125\n",
      "38/38 [==============================] - 2s 49ms/step - loss: 0.0025\n",
      "Epoch 36/125\n",
      "38/38 [==============================] - 2s 50ms/step - loss: 0.0027\n",
      "Epoch 37/125\n",
      "38/38 [==============================] - 2s 49ms/step - loss: 0.0025\n",
      "Epoch 38/125\n",
      "38/38 [==============================] - 2s 51ms/step - loss: 0.0027\n",
      "Epoch 39/125\n",
      "38/38 [==============================] - 2s 50ms/step - loss: 0.0031\n",
      "Epoch 40/125\n",
      "38/38 [==============================] - 2s 49ms/step - loss: 0.0027\n",
      "Epoch 41/125\n",
      "38/38 [==============================] - 2s 51ms/step - loss: 0.0029\n",
      "Epoch 42/125\n",
      "38/38 [==============================] - 2s 54ms/step - loss: 0.0026\n",
      "Epoch 43/125\n",
      "38/38 [==============================] - 2s 60ms/step - loss: 0.0026\n",
      "Epoch 44/125\n",
      "38/38 [==============================] - 2s 54ms/step - loss: 0.0022\n",
      "Epoch 45/125\n",
      "38/38 [==============================] - 2s 57ms/step - loss: 0.0024\n",
      "Epoch 46/125\n",
      "38/38 [==============================] - 2s 52ms/step - loss: 0.0025\n",
      "Epoch 47/125\n",
      "38/38 [==============================] - 2s 58ms/step - loss: 0.0027\n",
      "Epoch 48/125\n",
      "38/38 [==============================] - 2s 54ms/step - loss: 0.0024\n",
      "Epoch 49/125\n",
      "38/38 [==============================] - 2s 54ms/step - loss: 0.0023\n",
      "Epoch 50/125\n",
      "38/38 [==============================] - 2s 53ms/step - loss: 0.0023\n",
      "Epoch 51/125\n",
      "38/38 [==============================] - 2s 52ms/step - loss: 0.0024\n",
      "Epoch 52/125\n",
      "38/38 [==============================] - 2s 53ms/step - loss: 0.0023\n",
      "Epoch 53/125\n",
      "38/38 [==============================] - 2s 53ms/step - loss: 0.0023\n",
      "Epoch 54/125\n",
      "38/38 [==============================] - 2s 54ms/step - loss: 0.0023\n",
      "Epoch 55/125\n",
      "38/38 [==============================] - 2s 52ms/step - loss: 0.0022\n",
      "Epoch 56/125\n",
      "38/38 [==============================] - 2s 50ms/step - loss: 0.0020\n",
      "Epoch 57/125\n",
      "38/38 [==============================] - 2s 49ms/step - loss: 0.0021\n",
      "Epoch 58/125\n",
      "38/38 [==============================] - 2s 55ms/step - loss: 0.0021\n",
      "Epoch 59/125\n",
      "38/38 [==============================] - 2s 54ms/step - loss: 0.0021\n",
      "Epoch 60/125\n",
      "38/38 [==============================] - 2s 52ms/step - loss: 0.0019\n",
      "Epoch 61/125\n",
      "38/38 [==============================] - 2s 54ms/step - loss: 0.0021\n",
      "Epoch 62/125\n",
      "38/38 [==============================] - 2s 52ms/step - loss: 0.0020\n",
      "Epoch 63/125\n",
      "38/38 [==============================] - 2s 56ms/step - loss: 0.0018\n",
      "Epoch 64/125\n",
      "38/38 [==============================] - 2s 54ms/step - loss: 0.0022\n",
      "Epoch 65/125\n",
      "38/38 [==============================] - 2s 54ms/step - loss: 0.0021\n",
      "Epoch 66/125\n",
      "38/38 [==============================] - 2s 54ms/step - loss: 0.0020\n",
      "Epoch 67/125\n",
      "38/38 [==============================] - 2s 55ms/step - loss: 0.0019\n",
      "Epoch 68/125\n",
      "38/38 [==============================] - 2s 54ms/step - loss: 0.0016\n",
      "Epoch 69/125\n",
      "38/38 [==============================] - 2s 54ms/step - loss: 0.0017\n",
      "Epoch 70/125\n",
      "38/38 [==============================] - 2s 53ms/step - loss: 0.0017\n",
      "Epoch 71/125\n",
      "38/38 [==============================] - 2s 53ms/step - loss: 0.0018\n",
      "Epoch 72/125\n",
      "38/38 [==============================] - 2s 53ms/step - loss: 0.0020\n",
      "Epoch 73/125\n",
      "38/38 [==============================] - 2s 54ms/step - loss: 0.0017\n",
      "Epoch 74/125\n",
      "38/38 [==============================] - 2s 52ms/step - loss: 0.0017\n",
      "Epoch 75/125\n",
      "38/38 [==============================] - 2s 54ms/step - loss: 0.0018\n",
      "Epoch 76/125\n",
      "38/38 [==============================] - 2s 54ms/step - loss: 0.0016\n",
      "Epoch 77/125\n",
      "38/38 [==============================] - 2s 53ms/step - loss: 0.0019\n",
      "Epoch 78/125\n",
      "38/38 [==============================] - 2s 56ms/step - loss: 0.0017\n",
      "Epoch 79/125\n",
      "38/38 [==============================] - 2s 54ms/step - loss: 0.0017\n",
      "Epoch 80/125\n",
      "38/38 [==============================] - 2s 53ms/step - loss: 0.0016\n",
      "Epoch 81/125\n",
      "38/38 [==============================] - 2s 55ms/step - loss: 0.0017\n",
      "Epoch 82/125\n",
      "38/38 [==============================] - 2s 54ms/step - loss: 0.0016\n",
      "Epoch 83/125\n",
      "38/38 [==============================] - 2s 53ms/step - loss: 0.0016\n",
      "Epoch 84/125\n",
      "38/38 [==============================] - 2s 54ms/step - loss: 0.0015\n",
      "Epoch 85/125\n",
      "38/38 [==============================] - 2s 52ms/step - loss: 0.0015\n",
      "Epoch 86/125\n",
      "38/38 [==============================] - 2s 55ms/step - loss: 0.0014\n",
      "Epoch 87/125\n",
      "38/38 [==============================] - 2s 56ms/step - loss: 0.0017\n",
      "Epoch 88/125\n",
      "38/38 [==============================] - 2s 56ms/step - loss: 0.0016\n",
      "Epoch 89/125\n",
      "38/38 [==============================] - 2s 52ms/step - loss: 0.0016\n",
      "Epoch 90/125\n",
      "38/38 [==============================] - 2s 53ms/step - loss: 0.0016\n",
      "Epoch 91/125\n",
      "38/38 [==============================] - 2s 55ms/step - loss: 0.0015\n",
      "Epoch 92/125\n",
      "38/38 [==============================] - 2s 53ms/step - loss: 0.0015\n",
      "Epoch 93/125\n",
      "38/38 [==============================] - 2s 53ms/step - loss: 0.0017\n",
      "Epoch 94/125\n",
      "38/38 [==============================] - 2s 55ms/step - loss: 0.0017\n",
      "Epoch 95/125\n",
      "38/38 [==============================] - 2s 53ms/step - loss: 0.0013\n",
      "Epoch 96/125\n",
      "38/38 [==============================] - 2s 58ms/step - loss: 0.0014\n",
      "Epoch 97/125\n",
      "38/38 [==============================] - 2s 61ms/step - loss: 0.0013\n",
      "Epoch 98/125\n",
      "38/38 [==============================] - 2s 57ms/step - loss: 0.0015\n",
      "Epoch 99/125\n",
      "38/38 [==============================] - 2s 53ms/step - loss: 0.0014\n",
      "Epoch 100/125\n",
      "38/38 [==============================] - 2s 54ms/step - loss: 0.0013\n",
      "Epoch 101/125\n"
     ]
    },
    {
     "name": "stdout",
     "output_type": "stream",
     "text": [
      "38/38 [==============================] - 2s 50ms/step - loss: 0.0014\n",
      "Epoch 102/125\n",
      "38/38 [==============================] - 2s 54ms/step - loss: 0.0014\n",
      "Epoch 103/125\n",
      "38/38 [==============================] - 2s 58ms/step - loss: 0.0017\n",
      "Epoch 104/125\n",
      "38/38 [==============================] - 2s 52ms/step - loss: 0.0015\n",
      "Epoch 105/125\n",
      "38/38 [==============================] - 2s 52ms/step - loss: 0.0013\n",
      "Epoch 106/125\n",
      "38/38 [==============================] - 2s 52ms/step - loss: 0.0013\n",
      "Epoch 107/125\n",
      "38/38 [==============================] - 2s 52ms/step - loss: 0.0013\n",
      "Epoch 108/125\n",
      "38/38 [==============================] - 2s 54ms/step - loss: 0.0013\n",
      "Epoch 109/125\n",
      "38/38 [==============================] - 2s 54ms/step - loss: 0.0014\n",
      "Epoch 110/125\n",
      "38/38 [==============================] - 2s 56ms/step - loss: 0.0017\n",
      "Epoch 111/125\n",
      "38/38 [==============================] - 2s 57ms/step - loss: 0.0015\n",
      "Epoch 112/125\n",
      "38/38 [==============================] - 2s 55ms/step - loss: 0.0014\n",
      "Epoch 113/125\n",
      "38/38 [==============================] - 2s 55ms/step - loss: 0.0016\n",
      "Epoch 114/125\n",
      "38/38 [==============================] - 2s 55ms/step - loss: 0.0014\n",
      "Epoch 115/125\n",
      "38/38 [==============================] - 2s 54ms/step - loss: 0.0013\n",
      "Epoch 116/125\n",
      "38/38 [==============================] - 2s 54ms/step - loss: 0.0014\n",
      "Epoch 117/125\n",
      "38/38 [==============================] - 2s 54ms/step - loss: 0.0014\n",
      "Epoch 118/125\n",
      "38/38 [==============================] - 2s 54ms/step - loss: 0.0013\n",
      "Epoch 119/125\n",
      "38/38 [==============================] - 2s 54ms/step - loss: 0.0013\n",
      "Epoch 120/125\n",
      "38/38 [==============================] - 2s 55ms/step - loss: 0.0012\n",
      "Epoch 121/125\n",
      "38/38 [==============================] - 2s 55ms/step - loss: 0.0012\n",
      "Epoch 122/125\n",
      "38/38 [==============================] - 2s 53ms/step - loss: 0.0012\n",
      "Epoch 123/125\n",
      "38/38 [==============================] - 2s 54ms/step - loss: 0.0012\n",
      "Epoch 124/125\n",
      "38/38 [==============================] - 2s 55ms/step - loss: 0.0014\n",
      "Epoch 125/125\n",
      "38/38 [==============================] - 2s 54ms/step - loss: 0.0013\n"
     ]
    },
    {
     "data": {
      "text/plain": [
       "<keras.callbacks.History at 0x27204c17d60>"
      ]
     },
     "execution_count": 19,
     "metadata": {},
     "output_type": "execute_result"
    }
   ],
   "source": [
    "regressor.fit(X_train, y_train, epochs = 125, batch_size = 32)"
   ]
  },
  {
   "cell_type": "code",
   "execution_count": 20,
   "id": "7bfe3152",
   "metadata": {},
   "outputs": [],
   "source": [
    "dataset_train = pd.read_csv(\"Google_Stock_Price_Train.csv\")\n",
    "dataset_test = pd.read_csv('Google_Stock_Price_Test.csv')\n",
    "real_stock_price = dataset_test.iloc[:, 1:2].values"
   ]
  },
  {
   "cell_type": "code",
   "execution_count": 21,
   "id": "f7ff6309",
   "metadata": {},
   "outputs": [
    {
     "data": {
      "text/plain": [
       "0       778.81\n",
       "1       788.36\n",
       "2       786.08\n",
       "3       795.26\n",
       "4       806.40\n",
       "         ...  \n",
       "1253    790.90\n",
       "1254    790.68\n",
       "1255    793.70\n",
       "1256    783.33\n",
       "1257    782.75\n",
       "Name: Open, Length: 1278, dtype: float64"
      ]
     },
     "execution_count": 21,
     "metadata": {},
     "output_type": "execute_result"
    }
   ],
   "source": [
    "total_dataset = pd.concat((dataset_test['Open'], dataset_train['Open']),axis=0)\n",
    "total_dataset"
   ]
  },
  {
   "cell_type": "code",
   "execution_count": 22,
   "id": "202c76d6",
   "metadata": {},
   "outputs": [
    {
     "name": "stderr",
     "output_type": "stream",
     "text": [
      "C:\\Users\\FLCS\\anaconda3\\lib\\site-packages\\sklearn\\base.py:450: UserWarning: X does not have valid feature names, but MinMaxScaler was fitted with feature names\n",
      "  warnings.warn(\n"
     ]
    },
    {
     "data": {
      "text/plain": [
       "array([[0.92914279],\n",
       "       [0.91334921],\n",
       "       [0.88550115],\n",
       "       [0.90289456],\n",
       "       [0.89383511],\n",
       "       [0.89993675],\n",
       "       [0.91269812],\n",
       "       [0.917665  ],\n",
       "       [0.91130292],\n",
       "       [0.91811147],\n",
       "       [0.93176576],\n",
       "       [0.94402485],\n",
       "       [0.93686286],\n",
       "       [0.9233946 ],\n",
       "       [0.9277662 ],\n",
       "       [0.93444453],\n",
       "       [0.92493861],\n",
       "       [0.92106928],\n",
       "       [0.92438053],\n",
       "       [0.93048218],\n",
       "       [0.9299055 ],\n",
       "       [0.93113327],\n",
       "       [0.92750577],\n",
       "       [0.94415507],\n",
       "       [0.93876032],\n",
       "       [0.93403527],\n",
       "       [0.93483518],\n",
       "       [0.9313937 ],\n",
       "       [0.94636878],\n",
       "       [0.96569685],\n",
       "       [0.97510976],\n",
       "       [0.95966962],\n",
       "       [0.97808617],\n",
       "       [1.        ],\n",
       "       [0.98076494],\n",
       "       [0.97083116],\n",
       "       [0.98450406],\n",
       "       [0.96054394],\n",
       "       [0.9371419 ],\n",
       "       [0.92841729],\n",
       "       [0.90804747],\n",
       "       [0.8771858 ],\n",
       "       [0.92153434],\n",
       "       [0.93809063],\n",
       "       [0.93165414],\n",
       "       [0.95254483],\n",
       "       [0.88812412],\n",
       "       [0.88637547],\n",
       "       [0.87032145],\n",
       "       [0.88563137],\n",
       "       [0.90743359],\n",
       "       [0.91571173],\n",
       "       [0.89941588],\n",
       "       [0.91805566],\n",
       "       [0.9089404 ],\n",
       "       [0.9024853 ],\n",
       "       [0.89456061],\n",
       "       [0.91600938],\n",
       "       [0.9132934 ],\n",
       "       [0.88979835],\n",
       "       [0.86589404],\n",
       "       [0.89030062],\n",
       "       [0.90335962],\n",
       "       [0.89642086],\n",
       "       [0.91777662],\n",
       "       [0.93176576],\n",
       "       [0.94114145],\n",
       "       [0.95762334],\n",
       "       [0.96413424],\n",
       "       [0.96402262],\n",
       "       [0.96971501],\n",
       "       [0.95077759],\n",
       "       [0.96294367],\n",
       "       [0.96123223],\n",
       "       [0.95475854],\n",
       "       [0.95204256],\n",
       "       [0.95163331],\n",
       "       [0.95725128],\n",
       "       [0.93796041],\n",
       "       [0.93688146]])"
      ]
     },
     "execution_count": 22,
     "metadata": {},
     "output_type": "execute_result"
    }
   ],
   "source": [
    "inputs = total_dataset[len(total_dataset) - len(dataset_test) - 60:].values\n",
    "inputs = inputs.reshape(-1,1)\n",
    "inputs = sc.transform(inputs)\n",
    "inputs"
   ]
  },
  {
   "cell_type": "code",
   "execution_count": 23,
   "id": "2dab7e11",
   "metadata": {},
   "outputs": [],
   "source": [
    "X_test = []\n",
    "for i in range(60,80):\n",
    "    X_test.append(inputs[i-60:i, 0])\n",
    "X_test = np.array(X_test)\n",
    "X_test = np.reshape(X_test, (X_test.shape[0], X_test.shape[1], 1))"
   ]
  },
  {
   "cell_type": "code",
   "execution_count": 24,
   "id": "83b8822b",
   "metadata": {},
   "outputs": [
    {
     "data": {
      "text/plain": [
       "(20, 60, 1)"
      ]
     },
     "execution_count": 24,
     "metadata": {},
     "output_type": "execute_result"
    }
   ],
   "source": [
    "X_test.shape"
   ]
  },
  {
   "cell_type": "code",
   "execution_count": 25,
   "id": "f9320b52",
   "metadata": {},
   "outputs": [
    {
     "name": "stdout",
     "output_type": "stream",
     "text": [
      "1/1 [==============================] - 1s 1s/step\n"
     ]
    },
    {
     "data": {
      "text/plain": [
       "array([[0.89299476],\n",
       "       [0.8762449 ],\n",
       "       [0.8756151 ],\n",
       "       [0.88651705],\n",
       "       [0.8910626 ],\n",
       "       [0.89875734],\n",
       "       [0.9091487 ],\n",
       "       [0.9178678 ],\n",
       "       [0.9277538 ],\n",
       "       [0.9352789 ],\n",
       "       [0.9380616 ],\n",
       "       [0.94110334],\n",
       "       [0.9356625 ],\n",
       "       [0.9368324 ],\n",
       "       [0.9397781 ],\n",
       "       [0.93908644],\n",
       "       [0.9370322 ],\n",
       "       [0.9360641 ],\n",
       "       [0.9384229 ],\n",
       "       [0.9324193 ]], dtype=float32)"
      ]
     },
     "execution_count": 25,
     "metadata": {},
     "output_type": "execute_result"
    }
   ],
   "source": [
    "predicted_stock_price = regressor.predict(X_test)\n",
    "predicted_stock_price"
   ]
  },
  {
   "cell_type": "code",
   "execution_count": 26,
   "id": "94bf5a2c",
   "metadata": {},
   "outputs": [
    {
     "data": {
      "text/plain": [
       "array([[759.15826],\n",
       "       [750.1542 ],\n",
       "       [749.8156 ],\n",
       "       [755.6761 ],\n",
       "       [758.11957],\n",
       "       [762.256  ],\n",
       "       [767.8419 ],\n",
       "       [772.529  ],\n",
       "       [777.8433 ],\n",
       "       [781.8885 ],\n",
       "       [783.38434],\n",
       "       [785.0195 ],\n",
       "       [782.0947 ],\n",
       "       [782.72363],\n",
       "       [784.30707],\n",
       "       [783.9353 ],\n",
       "       [782.831  ],\n",
       "       [782.3106 ],\n",
       "       [783.5786 ],\n",
       "       [780.3513 ]], dtype=float32)"
      ]
     },
     "execution_count": 26,
     "metadata": {},
     "output_type": "execute_result"
    }
   ],
   "source": [
    "predicted_stock_price = sc.inverse_transform(predicted_stock_price)\n",
    "predicted_stock_price"
   ]
  },
  {
   "cell_type": "code",
   "execution_count": 27,
   "id": "26becc82",
   "metadata": {},
   "outputs": [
    {
     "data": {
      "image/png": "[encoded data removed]",
      "text/plain": [
       "<Figure size 432x288 with 1 Axes>"
      ]
     },
     "metadata": {
      "needs_background": "light"
     },
     "output_type": "display_data"
    }
   ],
   "source": [
    "plt.plot(real_stock_price, color = 'red', label = 'Real Google Stock Price')\n",
    "plt.plot(predicted_stock_price, color = 'blue', label = 'Predicted Google Stock Price')\n",
    "plt.title('Google Stock Price Prediction')\n",
    "plt.xlabel('Time')\n",
    "plt.ylabel('Google Stock Price')\n",
    "plt.legend()\n",
    "plt.show()"
   ]
  }
 ],
 "metadata": {
  "kernelspec": {
   "display_name": "Python 3 (ipykernel)",
   "language": "python",
   "name": "python3"
  },
  "language_info": {
   "codemirror_mode": {
    "name": "ipython",
    "version": 3
   },
   "file_extension": ".py",
   "mimetype": "text/x-python",
   "name": "python",
   "nbconvert_exporter": "python",
   "pygments_lexer": "ipython3",
   "version": "3.9.12"
  }
 },
 "nbformat": 4,
 "nbformat_minor": 5
}
